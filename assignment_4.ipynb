{
 "cells": [
  {
   "cell_type": "code",
   "execution_count": null,
   "metadata": {},
   "outputs": [],
   "source": [
    "#Q - 1. What exactly is []?\n",
    "#Answer:\n",
    "i. In python [] this represents an empty list\n",
    "ii. List is a built-in data structure used to store ordered collection of items\n",
    "iii. Lists are versatile and can hold items of different data types like numbers, strings, objects, and even other lists"
   ]
  },
  {
   "cell_type": "code",
   "execution_count": 5,
   "metadata": {},
   "outputs": [
    {
     "name": "stdout",
     "output_type": "stream",
     "text": [
      "[2, 4, 'hello', 6, 8, 10]\n"
     ]
    }
   ],
   "source": [
    "#Q - 2. In a list of values stored in a variable called spam, how would you assign the value 'hello'; as the third value? (Assume [2, 4, 6, 8, 10] are in spam.)\n",
    "spam = [2, 4, 6, 8, 10]\n",
    "spam.insert(2,'hello') #we can do this using insert() function of list where we added index first and then the value to insert\n",
    "print(spam)\n"
   ]
  },
  {
   "cell_type": "code",
   "execution_count": 11,
   "metadata": {},
   "outputs": [
    {
     "name": "stdout",
     "output_type": "stream",
     "text": [
      "d\n"
     ]
    }
   ],
   "source": [
    "#Q - 3. What is the value of spam[int(int('3' * 2) / 11)]?\n",
    "# Let's pretend the spam includes the list ['a','b','c','d'] for the next three queries.\n",
    "#Answer:\n",
    "spam= ['a','b','c','d']\n",
    "print(spam[int(int('3' * 2) / 11)]) #int(33/11) will return 3 and value at spam[3] is d. So this is the answer"
   ]
  },
  {
   "cell_type": "code",
   "execution_count": 13,
   "metadata": {},
   "outputs": [
    {
     "data": {
      "text/plain": [
       "'d'"
      ]
     },
     "execution_count": 13,
     "metadata": {},
     "output_type": "execute_result"
    }
   ],
   "source": [
    "#Q - 4. What is the value of spam[-1]?\n",
    "#Answer:\n",
    "spam= ['a','b','c','d']\n",
    "spam[-1] #-1 means first elemnts from the end. So printed 'd'"
   ]
  },
  {
   "cell_type": "code",
   "execution_count": 15,
   "metadata": {},
   "outputs": [
    {
     "data": {
      "text/plain": [
       "['a', 'b']"
      ]
     },
     "execution_count": 15,
     "metadata": {},
     "output_type": "execute_result"
    }
   ],
   "source": [
    "#Q - 5. What is the value of spam[:2]?\n",
    "#Answer: \n",
    "spam= ['a','b','c','d']\n",
    "spam[:2] #this means start from the very first index till 2nd index but exclude index. no. 2. So result is ['a'.'b'] "
   ]
  },
  {
   "cell_type": "code",
   "execution_count": 17,
   "metadata": {},
   "outputs": [
    {
     "data": {
      "text/plain": [
       "1"
      ]
     },
     "execution_count": 17,
     "metadata": {},
     "output_type": "execute_result"
    }
   ],
   "source": [
    "#Q - 6. What is the value of bacon.index('cat')?\n",
    "#Let's pretend bacon has the list [3.14,'cat',11,'cat',True] for the next three questions.\n",
    "#Answer:\n",
    "bacon = [3.14,'cat',11,'cat',True]\n",
    "bacon.index('cat') #string index() method finds the first occurence of the given value\n"
   ]
  },
  {
   "cell_type": "code",
   "execution_count": 21,
   "metadata": {},
   "outputs": [
    {
     "name": "stdout",
     "output_type": "stream",
     "text": [
      "[3.14, 'cat', 11, 'cat', True, 99]\n"
     ]
    }
   ],
   "source": [
    "#Q - 7. How does bacon.append(99) change the look of the list value in bacon?\n",
    "bacon = [3.14,'cat',11,'cat',True]\n",
    "bacon.append(99) #append method appends the element at the end of the list\n",
    "print(bacon)"
   ]
  },
  {
   "cell_type": "code",
   "execution_count": 24,
   "metadata": {},
   "outputs": [
    {
     "name": "stdout",
     "output_type": "stream",
     "text": [
      "[3.14, 11, 'cat', True]\n"
     ]
    }
   ],
   "source": [
    "#Q - 8. How does bacon.remove('cat') change the look of the list in bacon?\n",
    "bacon = [3.14,'cat',11,'cat',True]\n",
    "bacon.remove('cat') #remove function removes the first occurence of the given element from the list\n",
    "print(bacon)"
   ]
  },
  {
   "cell_type": "code",
   "execution_count": 28,
   "metadata": {},
   "outputs": [
    {
     "name": "stdout",
     "output_type": "stream",
     "text": [
      "[1, 2, 3, 3, 4, 5]\n",
      "[5, 6, 5, 6]\n"
     ]
    }
   ],
   "source": [
    "#Q - 9. What are the list concatenation and list replication operators?\n",
    "#Answer:\n",
    "#i. List concatenation operator(+). '+' this opeartor concatenates two or more lists. '+' \n",
    "lst1 = [1,2,3]\n",
    "lst2 = [3,4,5]\n",
    "print(lst1+lst2)\n",
    "#ii. List replication operator(*). This operator replicates a given list by given factor by creating a new list.\n",
    "lst3 = [5,6]\n",
    "print(lst3*2)"
   ]
  },
  {
   "cell_type": "code",
   "execution_count": 32,
   "metadata": {},
   "outputs": [
    {
     "name": "stdout",
     "output_type": "stream",
     "text": [
      "[1, 2, 3, 4]\n",
      "[5, 6, 'pp', 7]\n"
     ]
    }
   ],
   "source": [
    "#Q- 10. What is difference between the list methods append() and insert()?\n",
    "#Answer:\n",
    "#both append() and insert() methods are used to add elemnts to a list but in different way\n",
    "#append() method adds element at the end of a list. so it takes only one argument which is the value to be added\n",
    "li1 = [1,2,3]\n",
    "li1.append(4)\n",
    "print(li1)\n",
    "#insert() methods add any element to a list at a specific index. so, it takes two argument. First which index and second is what value to add.\n",
    "li2 = [5,6,7]\n",
    "li2.insert(2,'pp')\n",
    "print(li2) "
   ]
  },
  {
   "cell_type": "code",
   "execution_count": 36,
   "metadata": {},
   "outputs": [
    {
     "name": "stdout",
     "output_type": "stream",
     "text": [
      "[1, 2]\n",
      "[11, 36]\n"
     ]
    }
   ],
   "source": [
    "#Q - 11. What are the two methods for removing items from a list?\n",
    "#Answer:\n",
    "#Two methods for removing items from a list are remove() and pop() but both work in different way\n",
    "#- remove() method is used to remove first occurence of given element from the list. So it takes one argument.\n",
    "#-pop() method is used to remove an element from a list based on its index position. If no index is given, it will remove last element from the list.\n",
    "my_list1 = [1, 2, 3]\n",
    "my_list1.remove(3)\n",
    "print(my_list1)\n",
    "\n",
    "my_list2 = [11, 23, 36]\n",
    "my_list2.pop(1)\n",
    "print(my_list2)"
   ]
  },
  {
   "cell_type": "code",
   "execution_count": null,
   "metadata": {},
   "outputs": [],
   "source": [
    "#Q - 12. Describe how list values and string values are identical.\n",
    "#Answer:\n",
    "Both list values and string values have some similarities like:\n",
    "i. both of these values support indexing and slicing\n",
    "ii. Both of these have len() function that determines their length\n",
    "iii. both lists and string values can iterate over loops like for loop\n",
    "iv. Both values are sequence types which represent an ordered collection of elements\n"
   ]
  },
  {
   "cell_type": "code",
   "execution_count": null,
   "metadata": {},
   "outputs": [],
   "source": [
    "#Q - 13. What's the difference between tuples and lists?\n",
    "#Answer:\n",
    "Below are few differences between lists and tuples:\n",
    "i - lists are defined using [] square brackets while tuples are defined using () parenthesis\n",
    "ii- lists are mutable but tuples are immutable means we can change, add or delete elemnts of a list but cannot change elements of a tuple.\n",
    "iii - tuples are usually more memory efficient and slightly faster compared to lists"
   ]
  },
  {
   "cell_type": "code",
   "execution_count": null,
   "metadata": {},
   "outputs": [],
   "source": [
    "#Q - 14. How do you type a tuple value that only contains the integer 42?\n",
    "#Answer:\n",
    "tuple1 = (42,)\n",
    "#when there is only one element in tuple we have to use a comma at the end which distinguish it as a tuple"
   ]
  },
  {
   "cell_type": "code",
   "execution_count": 38,
   "metadata": {},
   "outputs": [
    {
     "name": "stdout",
     "output_type": "stream",
     "text": [
      "(4, 5, 3)\n",
      "[7, 9, 43]\n"
     ]
    }
   ],
   "source": [
    "#Q - 15. How do you get a list value's tuple form? How do you get a tuple value's list form?\n",
    "#Answer:\n",
    "#To get a list value's tuple form we use tuple() function. To get a tuple value's list form we use list() function\n",
    "li1 = [4,5,3]\n",
    "li1_tuple = tuple(li1)\n",
    "print(li1_tuple)\n",
    "\n",
    "tup1 = (7,9,43)\n",
    "tup1_li = list(tup1)\n",
    "print(tup1_li)"
   ]
  },
  {
   "cell_type": "code",
   "execution_count": null,
   "metadata": {},
   "outputs": [],
   "source": [
    "#Q - 16. Variables that \"contain\" list values are not necessarily lists themselves. Instead, what do they contain?\n",
    "#Answer:\n",
    "Variables that \"contain\" list values in Python actually contain references to list objects rather than the lists themselves."
   ]
  },
  {
   "cell_type": "code",
   "execution_count": null,
   "metadata": {},
   "outputs": [],
   "source": [
    "#Q - 17. How do you distinguish between copy.copy() and copy.deepcopy()?\n",
    "#Answer:\n",
    "In Python, the copy module provides two methods for creating copies of objects: \n",
    "copy.copy() and copy.deepcopy(). They differ in terms of how they create copies and handle nested objects:\n",
    "i . copy.copy()\n",
    "The copy.copy() method creates a shallow copy of an object. It copies the top-level object and creates a new object with a separate memory address.\n",
    "\n",
    "ii. copy.deepcopy()\n",
    "The copy.deepcopy() method creates a deep copy of an object. It recursively copies the top-level object as well as all the nested objects, creating new objects with separate memory addresses."
   ]
  }
 ],
 "metadata": {
  "kernelspec": {
   "display_name": "Python 3.9.6 64-bit",
   "language": "python",
   "name": "python3"
  },
  "language_info": {
   "codemirror_mode": {
    "name": "ipython",
    "version": 3
   },
   "file_extension": ".py",
   "mimetype": "text/x-python",
   "name": "python",
   "nbconvert_exporter": "python",
   "pygments_lexer": "ipython3",
   "version": "3.9.6"
  },
  "orig_nbformat": 4,
  "vscode": {
   "interpreter": {
    "hash": "31f2aee4e71d21fbe5cf8b01ff0e069b9275f58929596ceb00d14d90e3e16cd6"
   }
  }
 },
 "nbformat": 4,
 "nbformat_minor": 2
}
